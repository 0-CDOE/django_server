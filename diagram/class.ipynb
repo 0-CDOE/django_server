{
 "cells": [
  {
   "cell_type": "code",
   "execution_count": 2,
   "metadata": {},
   "outputs": [
    {
     "data": {
      "text/plain": [
       "'\\\\mnt\\\\data\\\\django_class_diagram.png'"
      ]
     },
     "execution_count": 2,
     "metadata": {},
     "output_type": "execute_result"
    }
   ],
   "source": [
    "import matplotlib.pyplot as plt\n",
    "from graphviz import Digraph\n",
    "\n",
    "# Initialize the diagram\n",
    "dot = Digraph(comment='Class Diagram')\n",
    "\n",
    "# Add the main classes\n",
    "dot.node('BaseExtraContextMixin', 'BaseExtraContextMixin')\n",
    "dot.node('IndexView', 'IndexView')\n",
    "dot.node('BaseListView', 'BaseListView')\n",
    "dot.node('BaseReadView', 'BaseReadView')\n",
    "dot.node('BaseFormMixin', 'BaseFormMixin')\n",
    "dot.node('BaseCreateView', 'BaseCreateView')\n",
    "dot.node('BaseUpdateView', 'BaseUpdateView')\n",
    "dot.node('BaseDeleteView', 'BaseDeleteView')\n",
    "dot.node('BaseVoteView', 'BaseVoteView')\n",
    "\n",
    "# Add relationships\n",
    "dot.edge('BaseExtraContextMixin', 'IndexView')\n",
    "dot.edge('BaseExtraContextMixin', 'BaseFormMixin')\n",
    "dot.edge('BaseFormMixin', 'BaseCreateView')\n",
    "dot.edge('BaseFormMixin', 'BaseUpdateView')\n",
    "dot.edge('BaseCreateView', 'BaseDeleteView')\n",
    "dot.edge('BaseListView', 'BaseReadView')\n",
    "dot.edge('BaseFormMixin', 'BaseDeleteView')\n",
    "dot.edge('BaseDeleteView', 'BaseVoteView')\n",
    "\n",
    "# Render the diagram\n",
    "dot.render('/mnt/data/django_class_diagram', format='png')\n",
    "\n",
    "\n"
   ]
  }
 ],
 "metadata": {
  "kernelspec": {
   "display_name": ".venv",
   "language": "python",
   "name": "python3"
  },
  "language_info": {
   "codemirror_mode": {
    "name": "ipython",
    "version": 3
   },
   "file_extension": ".py",
   "mimetype": "text/x-python",
   "name": "python",
   "nbconvert_exporter": "python",
   "pygments_lexer": "ipython3",
   "version": "3.8.5"
  }
 },
 "nbformat": 4,
 "nbformat_minor": 2
}
